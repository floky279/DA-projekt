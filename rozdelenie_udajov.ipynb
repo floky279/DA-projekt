{
 "cells": [
  {
   "cell_type": "code",
   "execution_count": 12,
   "metadata": {},
   "outputs": [],
   "source": [
    "import pandas as pd\n",
    "\n",
    "# Load the dataset\n",
    "data  = pd.read_csv(\"Brno_vycistene_udaje.csv\", encoding=\"utf-8\")\n",
    "\n",
    "# Columns to be included in Nemovitosti_FACT\n",
    "nemovitosti_columns = [\n",
    "    'id', 'nazev_inzeratu', 'patro', 'vlastnictvi', 'oblast', \n",
    "    'stav_nemovitosti', 'typ_nabidky', 'typ_nemovitosti', \n",
    "    'ma_balkon', 'velilkost_balkonu', 'ma_garaz', 'ma_zahradu', \n",
    "    'rozloha_zahrady', 'ma_parkovani', 'datum_vytvoreni', 'rok', \n",
    "    'datum_upravy', 'nebytove_udaje', 'cena_za_m2'\n",
    "]\n",
    "\n",
    "# Creating the Nemovitosti_FACT table with additional columns\n",
    "Nemovitosti_FACT = data[nemovitosti_columns]\n",
    "\n",
    "\n",
    "# Saving the tables to CSV files\n",
    "Nemovitosti_FACT.to_csv('Nemovitosti_FACT.csv', index=False)\n"
   ]
  }
 ],
 "metadata": {
  "kernelspec": {
   "display_name": "Python 3",
   "language": "python",
   "name": "python3"
  },
  "language_info": {
   "codemirror_mode": {
    "name": "ipython",
    "version": 3
   },
   "file_extension": ".py",
   "mimetype": "text/x-python",
   "name": "python",
   "nbconvert_exporter": "python",
   "pygments_lexer": "ipython3",
   "version": "3.12.7"
  }
 },
 "nbformat": 4,
 "nbformat_minor": 2
}
