{
 "cells": [
  {
   "cell_type": "code",
   "execution_count": 4,
   "metadata": {},
   "outputs": [
    {
     "name": "stdout",
     "output_type": "stream",
     "text": [
      "    Rok  RocnyPrumer\n",
      "0  2016     2.106667\n",
      "1  2017     2.106667\n",
      "2  2018     2.476667\n",
      "3  2019     2.659167\n",
      "4  2020     2.290000\n",
      "5  2021     2.276667\n",
      "6  2022     4.387500\n",
      "7  2023     5.519167\n",
      "8  2024     5.286667\n"
     ]
    },
    {
     "name": "stderr",
     "output_type": "stream",
     "text": [
      "C:\\Users\\floky\\AppData\\Local\\Temp\\ipykernel_19540\\2561183624.py:6: UserWarning: Parsing dates in %d.%m.%Y format when dayfirst=False (the default) was specified. Pass `dayfirst=True` or specify a format to silence this warning.\n",
      "  df['Období'] = pd.to_datetime(df['Období'])\n"
     ]
    }
   ],
   "source": [
    "import pandas as pd\n",
    "\n",
    "df = pd.read_csv('CNB_prumer_dim.csv')\n",
    "\n",
    "# Preveď stĺpec 'Období' na datetime formát\n",
    "df['Období'] = pd.to_datetime(df['Období'])\n",
    "\n",
    "# Vytvor nový stĺpec 'rok' extrahovaním roku z dátumu\n",
    "df['rok'] = df['Období'].dt.year\n",
    "\n",
    "# Vypočítaj ročný priemer\n",
    "rocne_priemery = df.groupby('rok')['Hodnota'].mean().reset_index()\n",
    "\n",
    "# Premenuj stĺpce pre lepšiu čitateľnosť\n",
    "rocne_priemery.columns = ['Rok', 'RocnyPrumer']\n",
    "\n",
    "# Zobraz výsledok\n",
    "print(rocne_priemery)"
   ]
  }
 ],
 "metadata": {
  "kernelspec": {
   "display_name": "Python 3",
   "language": "python",
   "name": "python3"
  },
  "language_info": {
   "codemirror_mode": {
    "name": "ipython",
    "version": 3
   },
   "file_extension": ".py",
   "mimetype": "text/x-python",
   "name": "python",
   "nbconvert_exporter": "python",
   "pygments_lexer": "ipython3",
   "version": "3.12.7"
  }
 },
 "nbformat": 4,
 "nbformat_minor": 2
}
