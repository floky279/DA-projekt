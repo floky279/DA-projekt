{
 "cells": [
  {
   "cell_type": "code",
   "execution_count": 26,
   "metadata": {},
   "outputs": [
    {
     "name": "stdout",
     "output_type": "stream",
     "text": [
      "Interest rates data loaded successfully\n",
      "       Období Hodnota\n",
      "0  31.03.2024    5,17\n",
      "1  29.02.2024    5,28\n",
      "2  31.01.2024    5,41\n",
      "3  31.12.2023    5,53\n",
      "4  30.11.2023    5,56\n",
      "       Období  Hodnota   rok\n",
      "0  31.03.2024     5.17  2024\n",
      "1  29.02.2024     5.28  2024\n",
      "2  31.01.2024     5.41  2024\n",
      "3  31.12.2023     5.53  2023\n",
      "4  30.11.2023     5.56  2023\n",
      "     rok  rocni_prumer\n",
      "0   2024          5.29\n",
      "3   2023          5.52\n",
      "15  2022          4.39\n",
      "27  2021          2.28\n",
      "39  2020          2.29\n"
     ]
    }
   ],
   "source": [
    "import pandas as pd\n",
    "\n",
    "\n",
    "\n",
    "# Načítanie dát zo súboru s úrokovými sadzbami\n",
    "interest_rates_df = pd.read_csv(\"CNB_dim.csv\", encoding=\"utf-8\")\n",
    "print(\"Interest rates data loaded successfully\")\n",
    "print(interest_rates_df.head())\n",
    "\n",
    "# Pridanie nového stĺpca s rokom, ak máme v dátach dátumy v stĺpci 'Období'\n",
    "interest_rates_df['rok'] = pd.to_datetime(interest_rates_df['Období'], dayfirst=True).dt.year\n",
    "\n",
    "# Konverzia úrokových sadzieb na čísla (odstránenie úvodzoviek a zámienka čiarky za bodku)\n",
    "interest_rates_df['Hodnota'] = interest_rates_df['Hodnota'].str.replace('\"', '').str.replace(',', '.').astype(float)\n",
    "\n",
    "# Ukážka dát s rokom a konvertovanými hodnotami\n",
    "print(interest_rates_df.head())\n",
    "\n",
    "# Vypočítanie priemerných hodnôt úrokových sadzieb za jednotlivé roky\n",
    "average_interest_rates = interest_rates_df.groupby('rok')['Hodnota'].mean().round(2).reset_index()\n",
    "average_interest_rates.columns = ['rok', 'rocni_prumer']\n",
    "\n",
    "# Pridanie priemerných hodnôt k pôvodným dátam\n",
    "interest_rates_df = pd.merge(interest_rates_df, average_interest_rates, on='rok', how='left')\n",
    "\n",
    "# Odstránenie duplikatnych rokov a zároveň odstarnenie stlpcov obdobie a hodnoty za jednotlive roky\n",
    "interest_rates_df = interest_rates_df.drop_duplicates(subset=['rok']).drop(columns=['Období','Hodnota'])\n",
    "\n",
    "\n",
    "# Ukážka dát s priemernými hodnotami\n",
    "print(interest_rates_df.head())\n",
    "\n",
    "\n",
    "\n"
   ]
  },
  {
   "cell_type": "code",
   "execution_count": 25,
   "metadata": {},
   "outputs": [
    {
     "name": "stdout",
     "output_type": "stream",
     "text": [
      "Results saved successfully\n"
     ]
    }
   ],
   "source": [
    "interest_rates_df.to_csv(\"CNB_prumer_dim_len_roky.csv\", index=False, encoding=\"utf-8\")\n",
    "print(\"Results saved successfully\")"
   ]
  }
 ],
 "metadata": {
  "kernelspec": {
   "display_name": "Python 3",
   "language": "python",
   "name": "python3"
  },
  "language_info": {
   "codemirror_mode": {
    "name": "ipython",
    "version": 3
   },
   "file_extension": ".py",
   "mimetype": "text/x-python",
   "name": "python",
   "nbconvert_exporter": "python",
   "pygments_lexer": "ipython3",
   "version": "3.12.7"
  }
 },
 "nbformat": 4,
 "nbformat_minor": 2
}
