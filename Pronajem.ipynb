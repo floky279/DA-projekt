{
 "cells": [
  {
   "cell_type": "code",
   "execution_count": 1,
   "metadata": {},
   "outputs": [],
   "source": [
    "import pandas as pd\n",
    "\n",
    "# Načítanie dát zo súborov\n",
    "salaries_and_inflation_df = pd.read_csv(\"Inflace_a_platy_FACT.csv\", encoding=\"utf-8\")\n",
    "property_df = pd.read_csv(\"Brno_vycistene_udaje.csv\", encoding=\"utf-8\")\n"
   ]
  },
  {
   "cell_type": "code",
   "execution_count": 2,
   "metadata": {},
   "outputs": [],
   "source": [
    "\n",
    "# Filtrovanie len záznamov s typom ponuky 'rent'\n",
    "property_df = property_df[property_df[\"typ_nabidky\"].str.lower() == \"rent\"]\n",
    "\n",
    "# Spojenie tabuliek na základe stĺpca 'rok'\n",
    "merged_df = pd.merge(property_df, salaries_and_inflation_df[['rok', 'platy_muzi', 'platy_zeny']], on='rok', how='left')\n"
   ]
  },
  {
   "cell_type": "code",
   "execution_count": 3,
   "metadata": {},
   "outputs": [],
   "source": [
    "# Konverzia stĺpcov platy_muzi a platy_zeny na číselný typ\n",
    "merged_df['platy_muzi'] = pd.to_numeric(merged_df['platy_muzi'].str.replace(' ', '').str.replace(',', '.'), errors='coerce')\n",
    "merged_df['platy_zeny'] = pd.to_numeric(merged_df['platy_zeny'].str.replace(' ', '').str.replace(',', '.'), errors='coerce')\n",
    "\n",
    "# Predpoklad maximálnej mesačnej splátky (40% platu)\n",
    "merged_df['max_splatka_muzi'] = merged_df['platy_muzi'] * 0.40\n",
    "merged_df['max_splatka_zeny'] = merged_df['platy_zeny'] * 0.40\n",
    "merged_df['max_splatka_par'] = (merged_df['platy_muzi'] + merged_df['platy_zeny']) * 0.40\n",
    "\n",
    "# Výpočet pomeru mesačných splátok k platu\n",
    "merged_df[\"splatka_k_platu_muzi\"] = merged_df[\"cena\"] / merged_df[\"max_splatka_muzi\"]\n",
    "merged_df[\"splatka_k_platu_zeny\"] = merged_df[\"cena\"] / merged_df[\"max_splatka_zeny\"]\n",
    "merged_df[\"splatka_k_platu_par\"] = merged_df[\"cena\"] / merged_df[\"max_splatka_par\"]\n",
    "\n",
    "# Pridanie stĺpcov s hodnotami TRUE/FALSE\n",
    "merged_df[\"muzi_si_mohou_dovolit\"] = merged_df[\"splatka_k_platu_muzi\"] <= 1\n",
    "merged_df[\"zeny_si_mohou_dovolit\"] = merged_df[\"splatka_k_platu_zeny\"] <= 1\n",
    "merged_df[\"par_si_muze_dovolit\"] = merged_df[\"splatka_k_platu_par\"] <= 1"
   ]
  },
  {
   "cell_type": "code",
   "execution_count": 5,
   "metadata": {},
   "outputs": [
    {
     "name": "stdout",
     "output_type": "stream",
     "text": [
      "Results for each year:\n",
      "    rok  prumerny_plat_muzi  prumerny_plat_zeny  max_splatka_muzi  \\\n",
      "0  2022             56206.0             40235.0           22482.4   \n",
      "1  2021             50996.0             37591.0           20398.4   \n",
      "2  2020             46538.0             34250.0           18615.2   \n",
      "3  2023             58993.0             42375.0           23597.2   \n",
      "4  2019             44392.0             32733.0           17756.8   \n",
      "5  2018             39906.0             29942.0           15962.4   \n",
      "6  2016             33518.0             24927.0           13407.2   \n",
      "7  2024                 NaN                 NaN               NaN   \n",
      "8  2017             36800.0             27255.0           14720.0   \n",
      "\n",
      "   max_splatka_zeny  max_splatka_par  muzi_si_mohou_dovolit  \\\n",
      "0           16094.0          38576.4                  False   \n",
      "1           15036.4          35434.8                  False   \n",
      "2           13700.0          32315.2                  False   \n",
      "3           16950.0          40547.2                  False   \n",
      "4           13093.2          30850.0                  False   \n",
      "5           11976.8          27939.2                  False   \n",
      "6            9970.8          23378.0                  False   \n",
      "7               NaN              NaN                  False   \n",
      "8           10902.0          25622.0                  False   \n",
      "\n",
      "   zeny_si_mohou_dovolit  par_si_muze_dovolit  \n",
      "0                  False                False  \n",
      "1                  False                False  \n",
      "2                  False                False  \n",
      "3                  False                False  \n",
      "4                  False                False  \n",
      "5                  False                False  \n",
      "6                  False                False  \n",
      "7                  False                False  \n",
      "8                  False                False  \n",
      "Results for each year saved successfully\n",
      "Combined results saved successfully\n"
     ]
    }
   ],
   "source": [
    "# Výpočet priemerných platov a maximálnych splátok pre každý rok, vrátane dostupnosti splácania\n",
    "years = merged_df[\"rok\"].unique()\n",
    "results = []\n",
    "\n",
    "for year in years:\n",
    "    yearly_data = merged_df[merged_df[\"rok\"] == year]\n",
    "    average_salary_male = yearly_data[\"platy_muzi\"].mean()\n",
    "    average_salary_female = yearly_data[\"platy_zeny\"].mean()\n",
    "    max_payment_male = average_salary_male * 0.40\n",
    "    max_payment_female = average_salary_female * 0.40\n",
    "    max_payment_couple = (average_salary_male + average_salary_female) * 0.40\n",
    "    \n",
    "    can_afford_male = yearly_data[\"muzi_si_mohou_dovolit\"].all()\n",
    "    can_afford_female = yearly_data[\"zeny_si_mohou_dovolit\"].all()\n",
    "    can_afford_couple = yearly_data[\"par_si_muze_dovolit\"].all()\n",
    "    \n",
    "    results.append({\n",
    "        \"rok\": year,\n",
    "        \"prumerny_plat_muzi\": average_salary_male,\n",
    "        \"prumerny_plat_zeny\": average_salary_female,\n",
    "        \"max_splatka_muzi\": max_payment_male,\n",
    "        \"max_splatka_zeny\": max_payment_female,\n",
    "        \"max_splatka_par\": max_payment_couple,\n",
    "        \"muzi_si_mohou_dovolit\": can_afford_male,\n",
    "        \"zeny_si_mohou_dovolit\": can_afford_female,\n",
    "        \"par_si_muze_dovolit\": can_afford_couple\n",
    "    })\n",
    "\n",
    "results_df = pd.DataFrame(results)\n",
    "print(\"Results for each year:\")\n",
    "print(results_df)\n",
    "\n",
    "# Pridanie stĺpcov \"cena\", \"nasetrene_10\", \"cena_90\", \"mesicni_splatka_90\", \"mena\", \"dipozice\", \"uzitna_plocha\", \"patro\", \"typ_nemovitosti\" a \"oblast\" do výsledkového dataframe\n",
    "results_df = merged_df[['rok', 'cena', 'mena', 'forma_platby','max_splatka_muzi', 'max_splatka_zeny', 'max_splatka_par', 'muzi_si_mohou_dovolit', 'zeny_si_mohou_dovolit', 'par_si_muze_dovolit', 'dipozice', 'uzitna_plocha', 'typ_nemovitosti']]\n",
    "\n",
    "\n",
    "# Uloženie výsledkov do CSV\n",
    "results_df.to_csv(\"Pronajmy_FACT.csv\", index=False, encoding=\"utf-8\")\n",
    "print(\"Results for each year saved successfully\")\n",
    "\n",
    "# Uloženie konečného dataframe so všetkými výpočtami\n",
    "merged_df.to_csv(\"Brno_pronajmy_vysledky_combined.csv\", index=False, encoding=\"utf-8\")\n",
    "print(\"Combined results saved successfully\")"
   ]
  }
 ],
 "metadata": {
  "kernelspec": {
   "display_name": "Python 3",
   "language": "python",
   "name": "python3"
  },
  "language_info": {
   "codemirror_mode": {
    "name": "ipython",
    "version": 3
   },
   "file_extension": ".py",
   "mimetype": "text/x-python",
   "name": "python",
   "nbconvert_exporter": "python",
   "pygments_lexer": "ipython3",
   "version": "3.12.7"
  }
 },
 "nbformat": 4,
 "nbformat_minor": 2
}
