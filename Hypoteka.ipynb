{
 "cells": [
  {
   "cell_type": "code",
   "execution_count": 2,
   "metadata": {},
   "outputs": [],
   "source": [
    "import pandas as pd\n",
    "\n",
    "# Načítanie dát zo súborov\n",
    "average_interest_rates_df = pd.read_csv(\"CNB_prumer_dim_len_roky.csv\", encoding=\"utf-8\")\n",
    "salaries_and_inflation_df = pd.read_csv(\"Inflace_a_platy_FACT.csv\", encoding=\"utf-8\")\n",
    "property_df = pd.read_csv(\"Brno_vycistene_udaje.csv\", encoding=\"utf-8\")\n"
   ]
  },
  {
   "cell_type": "code",
   "execution_count": 3,
   "metadata": {},
   "outputs": [
    {
     "name": "stdout",
     "output_type": "stream",
     "text": [
      "                   id           datum_vytvoreni  \\\n",
      "1   3dF757eGeuddastQG  2022-05-25T13:53:47.335Z   \n",
      "2   ptRJnQ4b8pNBPoLz7  2022-05-25T13:53:57.189Z   \n",
      "3   opXzryCRQsw4cjLi2  2022-05-25T13:53:57.569Z   \n",
      "8   8XuYjAtLh82uaBxdR  2022-05-25T14:43:17.723Z   \n",
      "17  M5itm4THLFSNRHDrL  2022-05-25T16:52:22.051Z   \n",
      "\n",
      "                                 adresa dipozice  ma_balkon  \\\n",
      "1           Spolkova, Brno - Zabrdovice     1+kk       True   \n",
      "2          Poznanska, Brno - Zabovresky      3+1      False   \n",
      "3              Jilkova, Brno - Zidenice     3+kk      False   \n",
      "8   Hlavni, Moravany, okres Brno-venkov     5+kk      False   \n",
      "17                      Brno - Zidenice     3+kk      False   \n",
      "\n",
      "    velilkost_balkonu     mesto kod_krajiny       oblast  patro  ...  \\\n",
      "1                 NaN      Brno          CZ   Brno-mesto    2.0  ...   \n",
      "2                 NaN      Brno          CZ   Brno-mesto    3.0  ...   \n",
      "3                 NaN      Brno          CZ   Brno-mesto    1.0  ...   \n",
      "8                 NaN  Moravany          CZ  Brno-venkov    NaN  ...   \n",
      "17                NaN      Brno          CZ   Brno-mesto    2.0  ...   \n",
      "\n",
      "         cena  mena  forma_platby     stav_nemovitosti  \\\n",
      "1   3850000.0   CZK           NaN                  NaN   \n",
      "2   7400000.0   CZK           NaN                  NaN   \n",
      "3   9890000.0   CZK           NaN  development_project   \n",
      "8         NaN   CZK           NaN    newly_constructed   \n",
      "17  8490000.0   CZK           NaN      in_construction   \n",
      "\n",
      "                            nazev_inzeratu typ_nemovitosti  \\\n",
      "1                   Prodej bytu 1+kk 32 m2       apartment   \n",
      "2                    Prodej bytu 3+1 82 m2       apartment   \n",
      "3                  Prodej bytu 3+kk 102 m2       apartment   \n",
      "8   Prodej domu 213 m2 s pozemkem 1 009 m2           house   \n",
      "17                  Prodej bytu 3+kk 75 m2       apartment   \n",
      "\n",
      "                datum_upravy nebytove_udaje     cena_za_m2   rok  \n",
      "1   2024-04-18T06:06:00.615Z            NaN  120312.500000  2022  \n",
      "2   2022-08-03T09:23:44.438Z            NaN   90243.902439  2022  \n",
      "3   2022-06-08T09:26:29.305Z            NaN   96960.784314  2022  \n",
      "8   2023-08-14T17:58:49.148Z    prodej domu            NaN  2022  \n",
      "17  2022-06-08T09:26:29.305Z            NaN  113200.000000  2022  \n",
      "\n",
      "[5 rows x 31 columns]\n"
     ]
    }
   ],
   "source": [
    "# Filtrovanie len záznamov s typom ponuky 'sale'\n",
    "property_df = property_df[property_df[\"typ_nabidky\"].str.lower() == \"sale\"]\n",
    "print(property_df.head())"
   ]
  },
  {
   "cell_type": "code",
   "execution_count": 4,
   "metadata": {},
   "outputs": [],
   "source": [
    "\n",
    "# Vytvorenie stĺpcov `cena_90` a `nasetrene_10`\n",
    "property_df[\"cena_90\"] = property_df[\"cena\"] * 0.90\n",
    "property_df[\"nasetrene_10\"] = property_df[\"cena\"] * 0.10\n",
    "\n",
    "# Spojenie tabuliek na základe stĺpca 'rok'\n",
    "merged_df = pd.merge(property_df, average_interest_rates_df[['rok', 'rocni_prumer']], on='rok', how='left')\n",
    "merged_df = pd.merge(merged_df, salaries_and_inflation_df[['rok', 'platy_muzi', 'platy_zeny']], on='rok', how='left')\n",
    "\n",
    "# Konverzia stĺpcov platy_muzi a platy_zeny na číselný typ\n",
    "merged_df['platy_muzi'] = pd.to_numeric(merged_df['platy_muzi'].str.replace(' ', '').str.replace(',', '.'), errors='coerce')\n",
    "merged_df['platy_zeny'] = pd.to_numeric(merged_df['platy_zeny'].str.replace(' ', '').str.replace(',', '.'), errors='coerce')\n",
    "\n"
   ]
  },
  {
   "cell_type": "code",
   "execution_count": 5,
   "metadata": {},
   "outputs": [],
   "source": [
    "# Predpokladané ročné úrokové sadzby a dĺžky splácania hypoték\n",
    "loan_term_years = 30  # 30 rokov\n",
    "\n",
    "# Výpočet mesačnej splátky hypotéky\n",
    "def calculate_monthly_payment(principal, interest_rate, term_years):\n",
    "    monthly_rate = interest_rate / 12\n",
    "    num_payments = term_years * 12\n",
    "    monthly_payment = principal * (monthly_rate * (1 + monthly_rate) ** num_payments) / ((1 + monthly_rate) ** num_payments - 1)\n",
    "    return monthly_payment\n",
    "\n",
    "# Výpočet mesačných splátok hypotéky s novými úrokovými sadzbami\n",
    "merged_df['mesicni_splatka_90'] = merged_df.apply(\n",
    "    lambda row: calculate_monthly_payment(row['cena_90'], row['rocni_prumer'] / 100, loan_term_years),\n",
    "    axis=1\n",
    ")\n",
    "\n",
    "\n"
   ]
  },
  {
   "cell_type": "code",
   "execution_count": 6,
   "metadata": {},
   "outputs": [],
   "source": [
    "# Predpoklad maximálnej mesačnej splátky hypotéky (40% platu)\n",
    "merged_df['max_splatka_muzi'] = merged_df['platy_muzi'] * 0.40\n",
    "merged_df['max_splatka_zeny'] = merged_df['platy_zeny'] * 0.40\n",
    "merged_df['max_splatka_par'] = (merged_df['platy_muzi'] + merged_df['platy_zeny']) * 0.40\n",
    "\n",
    "# Výpočet pomeru mesačných splátok k platu\n",
    "merged_df[\"splatka_k_platu_muzi\"] = merged_df[\"mesicni_splatka_90\"] / merged_df[\"max_splatka_muzi\"]\n",
    "merged_df[\"splatka_k_platu_zeny\"] = merged_df[\"mesicni_splatka_90\"] / merged_df[\"max_splatka_zeny\"]\n",
    "merged_df[\"splatka_k_platu_par\"] = merged_df[\"mesicni_splatka_90\"] / merged_df[\"max_splatka_par\"]\n",
    "\n",
    "# Pridanie stĺpcov s hodnotami TRUE/FALSE\n",
    "merged_df[\"muzi_si_mohou_dovolit\"] = merged_df[\"splatka_k_platu_muzi\"] <= 1\n",
    "merged_df[\"zeny_si_mohou_dovolit\"] = merged_df[\"splatka_k_platu_zeny\"] <= 1\n",
    "merged_df[\"par_si_muze_dovolit\"] = merged_df[\"splatka_k_platu_par\"] <= 1"
   ]
  },
  {
   "cell_type": "code",
   "execution_count": 7,
   "metadata": {},
   "outputs": [
    {
     "name": "stdout",
     "output_type": "stream",
     "text": [
      "Results for each year:\n",
      "    rok  prumerny_plat_muzi  prumerny_plat_zeny  max_splatka_muzi  \\\n",
      "0  2022             56206.0             40235.0           22482.4   \n",
      "1  2021             50996.0             37591.0           20398.4   \n",
      "2  2020             46538.0             34250.0           18615.2   \n",
      "3  2023             58993.0             42375.0           23597.2   \n",
      "4  2019             44392.0             32733.0           17756.8   \n",
      "5  2018             39906.0             29942.0           15962.4   \n",
      "6  2016             33518.0             24927.0           13407.2   \n",
      "7  2024                 NaN                 NaN               NaN   \n",
      "8  2017             36800.0             27255.0           14720.0   \n",
      "\n",
      "   max_splatka_zeny  max_splatka_par  muzi_si_mohou_dovolit  \\\n",
      "0           16094.0          38576.4                  False   \n",
      "1           15036.4          35434.8                  False   \n",
      "2           13700.0          32315.2                  False   \n",
      "3           16950.0          40547.2                  False   \n",
      "4           13093.2          30850.0                  False   \n",
      "5           11976.8          27939.2                  False   \n",
      "6            9970.8          23378.0                  False   \n",
      "7               NaN              NaN                  False   \n",
      "8           10902.0          25622.0                  False   \n",
      "\n",
      "   zeny_si_mohou_dovolit  par_si_muze_dovolit  \n",
      "0                  False                False  \n",
      "1                  False                False  \n",
      "2                  False                False  \n",
      "3                  False                False  \n",
      "4                  False                False  \n",
      "5                  False                False  \n",
      "6                  False                False  \n",
      "7                  False                False  \n",
      "8                  False                False  \n"
     ]
    }
   ],
   "source": [
    "# Výpočet priemerných platov a maximálnych splátok pre každý rok, vrátane dostupnosti splácania\n",
    "years = merged_df[\"rok\"].unique()\n",
    "results = []\n",
    "\n",
    "for year in years:\n",
    "    yearly_data = merged_df[merged_df[\"rok\"] == year]\n",
    "    average_salary_male = yearly_data[\"platy_muzi\"].mean()\n",
    "    average_salary_female = yearly_data[\"platy_zeny\"].mean()\n",
    "    max_payment_male = average_salary_male * 0.40\n",
    "    max_payment_female = average_salary_female * 0.40\n",
    "    max_payment_couple = (average_salary_male + average_salary_female) * 0.40\n",
    "    \n",
    "    can_afford_male = yearly_data[\"muzi_si_mohou_dovolit\"].all()\n",
    "    can_afford_female = yearly_data[\"zeny_si_mohou_dovolit\"].all()\n",
    "    can_afford_couple = yearly_data[\"par_si_muze_dovolit\"].all()\n",
    "    \n",
    "    results.append({\n",
    "        \"rok\": year,\n",
    "        \"prumerny_plat_muzi\": average_salary_male,\n",
    "        \"prumerny_plat_zeny\": average_salary_female,\n",
    "        \"max_splatka_muzi\": max_payment_male,\n",
    "        \"max_splatka_zeny\": max_payment_female,\n",
    "        \"max_splatka_par\": max_payment_couple,\n",
    "        \"muzi_si_mohou_dovolit\": can_afford_male,\n",
    "        \"zeny_si_mohou_dovolit\": can_afford_female,\n",
    "        \"par_si_muze_dovolit\": can_afford_couple\n",
    "    })\n",
    "\n",
    "results_df = pd.DataFrame(results)\n",
    "print(\"Results for each year:\")\n",
    "print(results_df)\n",
    "\n",
    "# Pridanie stĺpcov \"cena\", \"nasetrene_10\", \"cena_90\", \"mesicni_splatka_90\", \"mena\", \"dipozice\", \"uzitna_plocha\", \"patro\", \"typ_nemovitosti\" a \"oblast\" do výsledkového dataframe\n",
    "results_df = merged_df[['rok', 'cena', 'mena','rocni_prumer', 'forma_platby', 'nasetrene_10', 'cena_90', 'mesicni_splatka_90', 'max_splatka_muzi', 'max_splatka_zeny', 'max_splatka_par', 'muzi_si_mohou_dovolit', 'zeny_si_mohou_dovolit', 'par_si_muze_dovolit', 'dipozice', 'uzitna_plocha', 'typ_nemovitosti']]\n",
    "\n"
   ]
  },
  {
   "cell_type": "code",
   "execution_count": 8,
   "metadata": {},
   "outputs": [
    {
     "name": "stdout",
     "output_type": "stream",
     "text": [
      "Results for each year saved successfully\n"
     ]
    }
   ],
   "source": [
    "# Uloženie výsledkov do CSV\n",
    "results_df.to_csv(\"Hypoteka_FACT.csv\", index=False, encoding=\"utf-8\")\n",
    "print(\"Results for each year saved successfully\")\n",
    "\n",
    "# Uloženie konečného dataframe so všetkými výpočtami\n",
    "#merged_df.to_csv(\"Brno_hypoteky_vysledky_combined_cz.csv\", index=False, encoding=\"utf-8\")\n",
    "#print(\"Combined results saved successfully\")\n"
   ]
  }
 ],
 "metadata": {
  "kernelspec": {
   "display_name": "Python 3",
   "language": "python",
   "name": "python3"
  },
  "language_info": {
   "codemirror_mode": {
    "name": "ipython",
    "version": 3
   },
   "file_extension": ".py",
   "mimetype": "text/x-python",
   "name": "python",
   "nbconvert_exporter": "python",
   "pygments_lexer": "ipython3",
   "version": "3.12.5"
  }
 },
 "nbformat": 4,
 "nbformat_minor": 2
}
