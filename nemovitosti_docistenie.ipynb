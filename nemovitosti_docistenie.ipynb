{
 "cells": [
  {
   "cell_type": "code",
   "execution_count": 44,
   "metadata": {},
   "outputs": [],
   "source": [
    "import pandas as pd\n",
    "from unidecode import unidecode"
   ]
  },
  {
   "cell_type": "code",
   "execution_count": 45,
   "metadata": {},
   "outputs": [
    {
     "name": "stdout",
     "output_type": "stream",
     "text": [
      "Data loaded successfully\n",
      "<class 'pandas.core.frame.DataFrame'>\n",
      "RangeIndex: 324599 entries, 0 to 324598\n",
      "Data columns (total 28 columns):\n",
      " #   Column             Non-Null Count   Dtype  \n",
      "---  ------             --------------   -----  \n",
      " 0   id                 324599 non-null  object \n",
      " 1   datum_vytvoreni    324599 non-null  object \n",
      " 2   data_address       322162 non-null  object \n",
      " 3   dipozice           217193 non-null  object \n",
      " 4   ma_balkon          79474 non-null   object \n",
      " 5   velilkost_balkonu  15713 non-null   float64\n",
      " 6   mesto              324452 non-null  object \n",
      " 7   kod_krajiny        324599 non-null  object \n",
      " 8   oblast             324599 non-null  object \n",
      " 9   patro              215639 non-null  float64\n",
      " 10  ma_garaz           39482 non-null   object \n",
      " 11  ma_zahradu         11369 non-null   object \n",
      " 12  rozloha_zahrady    10156 non-null   float64\n",
      " 13  zemepisna_sirka    296337 non-null  float64\n",
      " 14  zemepisna_delka    296337 non-null  float64\n",
      " 15  gps_typ            176808 non-null  object \n",
      " 16  uzitna_plocha      284807 non-null  float64\n",
      " 17  lokalita           253733 non-null  object \n",
      " 18  typ_nabidky        324599 non-null  object \n",
      " 19  vlastnictvi        184077 non-null  object \n",
      " 20  ma_parkovani       121498 non-null  object \n",
      " 21  cena               298240 non-null  float64\n",
      " 22  mena               324599 non-null  object \n",
      " 23  forma_platby       277844 non-null  object \n",
      " 24  stav_nemovitosti   263463 non-null  object \n",
      " 25  nazev_inzeratu     324598 non-null  object \n",
      " 26  typ_nemovitosti    324599 non-null  object \n",
      " 27  datum_upravy       324599 non-null  object \n",
      "dtypes: float64(7), object(21)\n",
      "memory usage: 69.3+ MB\n",
      "None\n",
      "Data before removing diacritics:\n",
      "                           nazev_inzeratu       oblast\n",
      "0               Pronájem kanceláře 102 m²   Brno-město\n",
      "1                  Prodej bytu 1+kk 32 m²   Brno-město\n",
      "2                   Prodej bytu 3+1 82 m²   Brno-město\n",
      "3                 Prodej bytu 3+kk 102 m²   Brno-město\n",
      "4      Pronájem obchodních prostor 160 m²   Brno-město\n",
      "5                 Pronájem bytu 1+1 38 m²   Brno-město\n",
      "6        Pronájem Kanceláře v centru Brna   Brno-město\n",
      "7                 Pronájem bytu 1+1 35 m²   Brno-město\n",
      "8  Prodej domu 213 m² s pozemkem 1 009 m²  Brno-venkov\n",
      "9                Pronájem bytu 1+kk 46 m²   Brno-město\n",
      "Data after removing diacritics:\n",
      "                           nazev_inzeratu       oblast\n",
      "0               Pronajem kancelare 102 m2   Brno-mesto\n",
      "1                  Prodej bytu 1+kk 32 m2   Brno-mesto\n",
      "2                   Prodej bytu 3+1 82 m2   Brno-mesto\n",
      "3                 Prodej bytu 3+kk 102 m2   Brno-mesto\n",
      "4      Pronajem obchodnich prostor 160 m2   Brno-mesto\n",
      "5                 Pronajem bytu 1+1 38 m2   Brno-mesto\n",
      "6        Pronajem Kancelare v centru Brna   Brno-mesto\n",
      "7                 Pronajem bytu 1+1 35 m2   Brno-mesto\n",
      "8  Prodej domu 213 m2 s pozemkem 1 009 m2  Brno-venkov\n",
      "9                Pronajem bytu 1+kk 46 m2   Brno-mesto\n",
      "Diacritics removed successfully\n"
     ]
    }
   ],
   "source": [
    "df = pd.read_csv(\"Brno_nemovitosti.csv\", encoding=\"utf-8\")\n",
    "print(\"Data loaded successfully\")\n",
    "\n",
    "print(df.info())\n",
    "\n",
    "\n",
    "# Ukážka niektorých riadkov pred odstránením diakritiky\n",
    "print(\"Data before removing diacritics:\")\n",
    "print(df[['nazev_inzeratu', 'oblast']].head(10))\n",
    "\n",
    "# Funkcia na odstránenie diakritiky z textu\n",
    "def remove_diacritics(text):\n",
    "    if isinstance(text, str):\n",
    "        return unidecode(text)\n",
    "    return text\n",
    "\n",
    "# Odstránenie diakritiky zo všetkých textových stĺpcov\n",
    "text_columns = df.select_dtypes(include=['object']).columns\n",
    "for col in text_columns:\n",
    "    df[col] = df[col].apply(remove_diacritics)\n",
    "\n",
    "# Ukážka niektorých riadkov po odstránení diakritiky\n",
    "print(\"Data after removing diacritics:\")\n",
    "print(df[['nazev_inzeratu', 'oblast']].head(10))\n",
    "\n",
    "print(\"Diacritics removed successfully\")\n"
   ]
  },
  {
   "cell_type": "code",
   "execution_count": 46,
   "metadata": {},
   "outputs": [
    {
     "name": "stdout",
     "output_type": "stream",
     "text": [
      "Columns renamed successfully\n",
      "                  id           datum_vytvoreni                        adresa  \\\n",
      "0  3vnrSu8uDu8k9PRyA  2022-05-25T13:53:45.798Z        Lidicka, Brno - Veveri   \n",
      "1  3dF757eGeuddastQG  2022-05-25T13:53:47.335Z   Spolkova, Brno - Zabrdovice   \n",
      "2  ptRJnQ4b8pNBPoLz7  2022-05-25T13:53:57.189Z  Poznanska, Brno - Zabovresky   \n",
      "3  opXzryCRQsw4cjLi2  2022-05-25T13:53:57.569Z      Jilkova, Brno - Zidenice   \n",
      "4  vKNfCkhikKL868i4R  2022-05-25T13:53:58.080Z             Brno - Brno-mesto   \n",
      "\n",
      "  dipozice ma_balkon  velilkost_balkonu mesto kod_krajiny      oblast  patro  \\\n",
      "0      NaN       NaN                NaN  Brno          CZ  Brno-mesto    NaN   \n",
      "1     1+kk      True                NaN  Brno          CZ  Brno-mesto    2.0   \n",
      "2      3+1       NaN                NaN  Brno          CZ  Brno-mesto    3.0   \n",
      "3     3+kk       NaN                NaN  Brno          CZ  Brno-mesto    1.0   \n",
      "4      NaN       NaN                NaN  Brno          CZ  Brno-mesto    NaN   \n",
      "\n",
      "   ... typ_nabidky vlastnictvi  ma_parkovani       cena  mena forma_platby  \\\n",
      "0  ...        rent         NaN           NaN    15300.0   CZK    per_month   \n",
      "1  ...        sale     private          True  3850000.0   CZK          NaN   \n",
      "2  ...        sale     private          True  7400000.0   CZK          NaN   \n",
      "3  ...        sale     private           NaN  9890000.0   CZK          NaN   \n",
      "4  ...        rent         NaN          True    30000.0   CZK    per_month   \n",
      "\n",
      "      stav_nemovitosti                      nazev_inzeratu typ_nemovitosti  \\\n",
      "0                 good           Pronajem kancelare 102 m2      commercial   \n",
      "1                  NaN              Prodej bytu 1+kk 32 m2       apartment   \n",
      "2                  NaN               Prodej bytu 3+1 82 m2       apartment   \n",
      "3  development_project             Prodej bytu 3+kk 102 m2       apartment   \n",
      "4                 good  Pronajem obchodnich prostor 160 m2      commercial   \n",
      "\n",
      "               datum_upravy  \n",
      "0  2023-02-09T09:29:56.319Z  \n",
      "1  2024-04-18T06:06:00.615Z  \n",
      "2  2022-08-03T09:23:44.438Z  \n",
      "3  2022-06-08T09:26:29.305Z  \n",
      "4  2024-04-16T08:01:29.244Z  \n",
      "\n",
      "[5 rows x 28 columns]\n",
      "Boolean columns updated:\n",
      "   ma_balkon  ma_garaz  ma_zahradu  ma_parkovani\n",
      "0      False     False       False         False\n",
      "1       True     False       False          True\n",
      "2      False      True       False          True\n",
      "3      False     False       False         False\n",
      "4      False     False       False          True\n",
      "5       True     False       False         False\n",
      "6      False     False       False         False\n",
      "7       True     False       False          True\n",
      "8      False      True       False          True\n",
      "9       True     False       False          True\n"
     ]
    },
    {
     "name": "stderr",
     "output_type": "stream",
     "text": [
      "C:\\Users\\floky\\AppData\\Local\\Temp\\ipykernel_3788\\2643911852.py:13: FutureWarning: Downcasting object dtype arrays on .fillna, .ffill, .bfill is deprecated and will change in a future version. Call result.infer_objects(copy=False) instead. To opt-in to the future behavior, set `pd.set_option('future.no_silent_downcasting', True)`\n",
      "  df[col] = df[col].fillna(False).astype(bool)\n",
      "C:\\Users\\floky\\AppData\\Local\\Temp\\ipykernel_3788\\2643911852.py:13: FutureWarning: Downcasting object dtype arrays on .fillna, .ffill, .bfill is deprecated and will change in a future version. Call result.infer_objects(copy=False) instead. To opt-in to the future behavior, set `pd.set_option('future.no_silent_downcasting', True)`\n",
      "  df[col] = df[col].fillna(False).astype(bool)\n",
      "C:\\Users\\floky\\AppData\\Local\\Temp\\ipykernel_3788\\2643911852.py:13: FutureWarning: Downcasting object dtype arrays on .fillna, .ffill, .bfill is deprecated and will change in a future version. Call result.infer_objects(copy=False) instead. To opt-in to the future behavior, set `pd.set_option('future.no_silent_downcasting', True)`\n",
      "  df[col] = df[col].fillna(False).astype(bool)\n",
      "C:\\Users\\floky\\AppData\\Local\\Temp\\ipykernel_3788\\2643911852.py:13: FutureWarning: Downcasting object dtype arrays on .fillna, .ffill, .bfill is deprecated and will change in a future version. Call result.infer_objects(copy=False) instead. To opt-in to the future behavior, set `pd.set_option('future.no_silent_downcasting', True)`\n",
      "  df[col] = df[col].fillna(False).astype(bool)\n"
     ]
    }
   ],
   "source": [
    "column_mapping = {\n",
    "    \n",
    "    \"data_address\": \"adresa\",\n",
    "}\n",
    "\n",
    "df.rename(columns=column_mapping, inplace=True)\n",
    "print(\"Columns renamed successfully\")\n",
    "print(df.head())  # Ukážka dát po premenovaní stĺpcov\n",
    "\n",
    "# Nahradenie prázdnych hodnôt hodnotou False v boolovských stĺpcoch\n",
    "bool_columns = [\"ma_balkon\", \"ma_garaz\", \"ma_zahradu\", \"ma_parkovani\"]\n",
    "for col in bool_columns:\n",
    "    df[col] = df[col].fillna(False).astype(bool)\n",
    "\n",
    "print(\"Boolean columns updated:\")\n",
    "print(df[bool_columns].head(10))"
   ]
  },
  {
   "cell_type": "code",
   "execution_count": 47,
   "metadata": {},
   "outputs": [
    {
     "name": "stdout",
     "output_type": "stream",
     "text": [
      "Number of matches for 'louka': 16\n",
      "Number of matches for 'les': 2479\n",
      "Number of matches for 'pozemek': 21104\n",
      "Number of matches for 'chata': 346\n",
      "Number of matches for 'chalupa': 43\n",
      "Number of matches for 'kancelar': 23180\n",
      "Number of matches for 'zahrada': 686\n",
      "Number of matches for 'skladovaci prostory': 14\n",
      "Number of matches for 'prodej domu': 12416\n",
      "Number of matches for 'obchodni prostory': 341\n",
      "Number of matches for 'restaurace': 2314\n",
      "Number of matches for 'komercni prostor': 209\n",
      "Number of matches for 'pronajem': 186769\n",
      "Number of matches for 'pole' excluding 'Kralovo pole': 5109\n",
      "Number of matches for 'garsoniera': 424\n"
     ]
    }
   ],
   "source": [
    "# Konverzia všetkých hodnôt v stĺpci 'nazev_inzeratu' na text\n",
    "df[\"nazev_inzeratu\"] = df[\"nazev_inzeratu\"].astype(str)\n",
    "\n",
    "# Vytvorenie nového stĺpca 'nebytove_udaje'\n",
    "df[\"nebytove_udaje\"] = None\n",
    "\n",
    "# Skontrolujeme výskyt kľúčových slov v stĺpci 'nazev_inzeratu'\n",
    "keywords_nebytove = {\n",
    "    \"louka\": \"louka\",\n",
    "    \"les\": \"les\",\n",
    "    \"pozemek\": \"pozemek\",\n",
    "    \"chata\": \"chata\",\n",
    "    \"chalupa\": \"chalupa\",\n",
    "    \"kancelar\": \"kancelar\",\n",
    "    \"zahrada\": \"zahrada\",\n",
    "    \"skladovaci prostory\": \"skladovaci prostory\",\n",
    "    \"prodej domu\": \"prodej domu\",\n",
    "    \"obchodni prostory\": \"obchodni prostory\",\n",
    "    \"restaurace\": \"restaurace\",\n",
    "    \"komercni prostor\": \"komercni prostor\",\n",
    "    \"pronajem\": \"pronajem\"\n",
    "}\n",
    "\n",
    "# Doplníme hodnoty do 'nebytove_udaje' na základe kľúčových slov\n",
    "for keyword, value in keywords_nebytove.items():\n",
    "    matches = df[\"nazev_inzeratu\"].str.contains(keyword, case=False, na=False)\n",
    "    df.loc[matches, \"nebytove_udaje\"] = value\n",
    "    print(f\"Number of matches for '{keyword}': {matches.sum()}\")\n",
    "\n",
    "# Špeciálne spracovanie pre 'pole' s výnimkou 'Kralovo pole'\n",
    "pole_matches = df[\"nazev_inzeratu\"].str.contains(r'\\bpole\\b', case=False, na=False) & ~df[\"nazev_inzeratu\"].str.contains(\"Kralovo pole\", case=False, na=False)\n",
    "df.loc[pole_matches, \"nebytove_udaje\"] = \"pole\"\n",
    "print(f\"Number of matches for 'pole' excluding 'Kralovo pole': {pole_matches.sum()}\")\n",
    "\n",
    "# Doplníme 'dipozice' hodnotou 'garsoniera' ak je prázdny a 'nazev_inzeratu' obsahuje 'garsoniera'\n",
    "garsoniera_matches = df[\"nazev_inzeratu\"].str.contains(\"garsoniera\", case=False, na=False)\n",
    "df.loc[df[\"dipozice\"].isna() & garsoniera_matches, \"dipozice\"] = \"garsoniera\"\n",
    "print(f\"Number of matches for 'garsoniera': {garsoniera_matches.sum()}\")\n"
   ]
  },
  {
   "cell_type": "code",
   "execution_count": 48,
   "metadata": {},
   "outputs": [
    {
     "name": "stdout",
     "output_type": "stream",
     "text": [
      "New column 'cena_za_m2' added:\n",
      "        cena  uzitna_plocha     cena_za_m2\n",
      "0    15300.0          102.0     150.000000\n",
      "1  3850000.0           32.0  120312.500000\n",
      "2  7400000.0           82.0   90243.902439\n",
      "3  9890000.0          102.0   96960.784314\n",
      "4    30000.0          160.0     187.500000\n",
      "5    12500.0           38.0     328.947368\n",
      "6    15000.0            NaN            NaN\n",
      "7    10500.0           35.0     300.000000\n",
      "8        NaN          213.0            NaN\n",
      "9    12500.0           46.0     271.739130\n"
     ]
    }
   ],
   "source": [
    "# Vypočítanie ceny za meter štvorcový\n",
    "df[\"cena_za_m2\"] = df[\"cena\"] / df[\"uzitna_plocha\"]\n",
    "df.loc[df[\"uzitna_plocha\"] == 0, \"cena_za_m2\"] = None\n",
    "\n",
    "print(\"New column 'cena_za_m2' added:\")\n",
    "print(df[[\"cena\", \"uzitna_plocha\", \"cena_za_m2\"]].head(10))\n"
   ]
  },
  {
   "cell_type": "code",
   "execution_count": 49,
   "metadata": {},
   "outputs": [
    {
     "name": "stdout",
     "output_type": "stream",
     "text": [
      "New column 'rok_vytvoreni' added:\n",
      "            datum_vytvoreni   rok\n",
      "0  2022-05-25T13:53:45.798Z  2022\n",
      "1  2022-05-25T13:53:47.335Z  2022\n",
      "2  2022-05-25T13:53:57.189Z  2022\n",
      "3  2022-05-25T13:53:57.569Z  2022\n",
      "4  2022-05-25T13:53:58.080Z  2022\n",
      "5  2022-05-25T13:53:58.653Z  2022\n",
      "6  2022-05-25T14:33:02.925Z  2022\n",
      "7  2022-05-25T14:33:08.767Z  2022\n",
      "8  2022-05-25T14:43:17.723Z  2022\n",
      "9  2022-05-25T14:52:39.060Z  2022\n"
     ]
    }
   ],
   "source": [
    "# Získanie roku z dátumu v stĺpci 'datum_vytvoreni'\n",
    "df[\"rok\"] = df[\"datum_vytvoreni\"].str[:4]\n",
    "\n",
    "print(\"New column 'rok_vytvoreni' added:\")\n",
    "print(df[[\"datum_vytvoreni\", \"rok\"]].head(10))"
   ]
  },
  {
   "cell_type": "code",
   "execution_count": 50,
   "metadata": {},
   "outputs": [
    {
     "name": "stdout",
     "output_type": "stream",
     "text": [
      "Cleaned data saved successfully\n"
     ]
    }
   ],
   "source": [
    "df.to_csv(\"Brno_vycistene_udaje.csv\", index=False, encoding=\"utf-8\")\n",
    "print(\"Cleaned data saved successfully\")"
   ]
  }
 ],
 "metadata": {
  "kernelspec": {
   "display_name": "Python 3",
   "language": "python",
   "name": "python3"
  },
  "language_info": {
   "codemirror_mode": {
    "name": "ipython",
    "version": 3
   },
   "file_extension": ".py",
   "mimetype": "text/x-python",
   "name": "python",
   "nbconvert_exporter": "python",
   "pygments_lexer": "ipython3",
   "version": "3.12.3"
  }
 },
 "nbformat": 4,
 "nbformat_minor": 2
}
