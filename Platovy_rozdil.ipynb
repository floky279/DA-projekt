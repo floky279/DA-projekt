{
 "cells": [
  {
   "cell_type": "code",
   "execution_count": 1,
   "metadata": {},
   "outputs": [],
   "source": [
    "import pandas as pd\n",
    "\n",
    "# Load the data from the CSV file\n",
    "data = pd.read_csv(\"Inflace_a_platy_FACT.csv\")\n",
    "\n",
    "# Clean the data by removing spaces and converting to float\n",
    "data['platy_muzi'] = data['platy_muzi'].str.replace(' ', '').astype(float)\n",
    "data['platy_zeny'] = data['platy_zeny'].str.replace(' ', '').astype(float)\n",
    "\n",
    "# Calculate the percentage difference between male and female salaries\n",
    "data['percentualni_rozdil'] = ((data['platy_muzi'] - data['platy_zeny']) / data['platy_muzi']) * 100\n",
    "\n",
    "# Select the specified columns\n",
    "data = data[['rok', 'platy_muzi', 'platy_zeny', 'inflace', 'percentualni_rozdil']].round(2)\n",
    "\n",
    "# Save the updated dataframe to a new CSV file\n",
    "\n",
    "data.to_csv(\"Inflace_a_platy_rozdil_FACT.csv\", index=False)\n",
    "\n"
   ]
  }
 ],
 "metadata": {
  "kernelspec": {
   "display_name": "Python 3",
   "language": "python",
   "name": "python3"
  },
  "language_info": {
   "codemirror_mode": {
    "name": "ipython",
    "version": 3
   },
   "file_extension": ".py",
   "mimetype": "text/x-python",
   "name": "python",
   "nbconvert_exporter": "python",
   "pygments_lexer": "ipython3",
   "version": "3.12.7"
  }
 },
 "nbformat": 4,
 "nbformat_minor": 2
}
